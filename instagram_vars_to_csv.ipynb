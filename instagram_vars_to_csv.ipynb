{
 "cells": [
  {
   "cell_type": "code",
   "execution_count": 1,
   "metadata": {},
   "outputs": [],
   "source": [
    "import requests\n",
    "from bs4 import BeautifulSoup\n",
    "import pickle\n",
    "import pandas as pd\n",
    "import re\n",
    "import os\n",
    "import json\n",
    "import time"
   ]
  },
  {
   "cell_type": "code",
   "execution_count": 2,
   "metadata": {},
   "outputs": [],
   "source": [
    "from multiprocessing import Pool"
   ]
  },
  {
   "cell_type": "code",
   "execution_count": 3,
   "metadata": {},
   "outputs": [],
   "source": [
    "def download_instagram_json(shortcode):\n",
    "    out_path = \"/mnt/e/Data/selfies/instagram_json\"\n",
    "    out_file = shortcode + \".json\"\n",
    "    if not os.path.exists(os.path.join(out_path, out_file)):\n",
    "        try:\n",
    "            print(\"Processing:\", shortcode)\n",
    "            r  = requests.get(\"https://www.instagram.com/p/\" + shortcode +\"?__a=1\")\n",
    "            data = r.json()\n",
    "\n",
    "            # Get Likes, Following, Followers and append to data\n",
    "            owner_username = data[\"graphql\"][\"shortcode_media\"][\"owner\"][\"username\"]\n",
    "            owner_url = \"https://www.instagram.com/\" + owner_username\n",
    "            r = requests.get(owner_url)\n",
    "            soup = BeautifulSoup(r.text, \"lxml\")\n",
    "            description = soup.find(\"meta\", property=\"og:description\")[\"content\"]\n",
    "            nums = re.compile(r\"[+-]?\\d+(?:\\.\\d+)?\")\n",
    "            res = nums.findall(description.split(\"-\")[0])\n",
    "            owner_stats = dict(zip([\"followers\", \"following\", \"posts\"], res))\n",
    "            data[\"graphql\"][\"shortcode_media\"][\"owner\"].update(owner_stats)\n",
    "\n",
    "            # Save data\n",
    "            with open(os.path.join(out_path, out_file), 'w') as fout:\n",
    "                json.dump(data, fout)\n",
    "        except Exception as e:\n",
    "            print(\"Error:\", shortcode, e)"
   ]
  },
  {
   "cell_type": "code",
   "execution_count": 4,
   "metadata": {},
   "outputs": [],
   "source": [
    "def main():\n",
    "    in_path = \"/mnt/e/Data/selfies/images\"\n",
    "    out_path = \"/mnt/e/Data/selfies/face_api_json\"\n",
    "\n",
    "    shortcodes_analysed_json = os.listdir(in_path)\n",
    "    shortcodes_analysed = list(map(lambda x: x[:-4], shortcodes_analysed_json))\n",
    "    \n",
    "    for shortcode in shortcodes_analysed:\n",
    "        download_instagram_json(shortcode)\n",
    "#     # Multiprocess images\n",
    "#     with Pool(6) as p:\n",
    "#         p.map(download_instagram_json, shortcodes)"
   ]
  },
  {
   "cell_type": "code",
   "execution_count": null,
   "metadata": {},
   "outputs": [],
   "source": [
    "if __name__ == '__main__':\n",
    "    main()"
   ]
  },
  {
   "cell_type": "code",
   "execution_count": null,
   "metadata": {},
   "outputs": [],
   "source": []
  }
 ],
 "metadata": {
  "kernelspec": {
   "display_name": "junbum-research",
   "language": "python",
   "name": "junbum-research"
  },
  "language_info": {
   "codemirror_mode": {
    "name": "ipython",
    "version": 3
   },
   "file_extension": ".py",
   "mimetype": "text/x-python",
   "name": "python",
   "nbconvert_exporter": "python",
   "pygments_lexer": "ipython3",
   "version": "3.6.6"
  }
 },
 "nbformat": 4,
 "nbformat_minor": 2
}
