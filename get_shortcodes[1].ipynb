{
 "cells": [
  {
   "cell_type": "code",
   "execution_count": 1,
   "metadata": {},
   "outputs": [],
   "source": [
    "import json\n",
    "import requests\n",
    "from collections import Counter\n",
    "import pickle"
   ]
  },
  {
   "cell_type": "code",
   "execution_count": null,
   "metadata": {},
   "outputs": [],
   "source": [
    "base_url = \"https://www.instagram.com/explore/tags/selfie/?__a=1\"\n",
    "end_cursor = \"\"\n",
    "shortcodes = []\n",
    "\n",
    "while len(shortcodes) < 10000:\n",
    "    try:\n",
    "        r  = requests.get(\"https://www.instagram.com/explore/tags/selfie/?__a=1&max_id=\" + end_cursor)\n",
    "        data = r.json()\n",
    "        shortcodes += [item[\"node\"][\"shortcode\"] for item in data[\"graphql\"][\"hashtag\"][\"edge_hashtag_to_media\"][\"edges\"]]\n",
    "        end_cursor = data[\"graphql\"][\"hashtag\"][\"edge_hashtag_to_media\"][\"page_info\"][\"end_cursor\"]\n",
    "    except Exception as e:\n",
    "        print(e)\n",
    "    \n",
    "    print(\"Number of Photos: \" + str(len(shortcodes)))"
   ]
  },
  {
   "cell_type": "code",
   "execution_count": 6,
   "metadata": {},
   "outputs": [
    {
     "data": {
      "text/plain": [
       "{'message': 'Please wait a few minutes before you try again.',\n",
       " 'status': 'fail'}"
      ]
     },
     "execution_count": 6,
     "metadata": {},
     "output_type": "execute_result"
    }
   ],
   "source": [
    "data"
   ]
  },
  {
   "cell_type": "code",
   "execution_count": 3,
   "metadata": {},
   "outputs": [],
   "source": [
    "c = Counter(shortcodes)"
   ]
  },
  {
   "cell_type": "code",
   "execution_count": 10,
   "metadata": {},
   "outputs": [],
   "source": [
    "with open('selfie_shortcodes_' + str(len(shortcodes)) + '.pkl', 'wb') as f:\n",
    "    pickle.dump(shortcodes, f)"
   ]
  },
  {
   "cell_type": "code",
   "execution_count": null,
   "metadata": {},
   "outputs": [],
   "source": []
  }
 ],
 "metadata": {
  "kernelspec": {
   "display_name": "junbum-research",
   "language": "python",
   "name": "junbum-research"
  },
  "language_info": {
   "codemirror_mode": {
    "name": "ipython",
    "version": 3
   },
   "file_extension": ".py",
   "mimetype": "text/x-python",
   "name": "python",
   "nbconvert_exporter": "python",
   "pygments_lexer": "ipython3",
   "version": "3.6.6"
  }
 },
 "nbformat": 4,
 "nbformat_minor": 2
}
